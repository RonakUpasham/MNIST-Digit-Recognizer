{
 "cells": [
  {
   "cell_type": "code",
   "execution_count": 1,
   "metadata": {},
   "outputs": [],
   "source": [
    "from tensorflow.keras.models import Sequential\n",
    "from tensorflow.keras.layers import Dense, Dropout, Flatten, Conv2D, MaxPool2D\n",
    "from tensorflow.keras.callbacks import Callback"
   ]
  },
  {
   "cell_type": "code",
   "execution_count": 2,
   "metadata": {},
   "outputs": [
    {
     "name": "stdout",
     "output_type": "stream",
     "text": [
      "Found 37800 images belonging to 10 classes.\n",
      "Found 4200 images belonging to 10 classes.\n"
     ]
    }
   ],
   "source": [
    "from tensorflow.keras.preprocessing.image import ImageDataGenerator\n",
    "train_datagen = ImageDataGenerator(rescale=1./255)\n",
    "test_datagen = ImageDataGenerator(rescale=1./255)\n",
    "train = train_datagen.flow_from_directory('/Users/kshitijaupasham/Desktop/python/TrainingData/',target_size=(28, 28),color_mode='grayscale')\n",
    "test = test_datagen.flow_from_directory('/Users/kshitijaupasham/Desktop/python/TestingData/',target_size=(28, 28),color_mode='grayscale')"
   ]
  },
  {
   "cell_type": "code",
   "execution_count": 3,
   "metadata": {},
   "outputs": [],
   "source": [
    "thresh = 0.9915"
   ]
  },
  {
   "cell_type": "code",
   "execution_count": 4,
   "metadata": {},
   "outputs": [],
   "source": [
    "class myCallback(Callback): \n",
    "    def on_epoch_end(self, epoch, logs={}): \n",
    "        if(logs.get('val_accuracy') > thresh):   \n",
    "            self.model.stop_training = True"
   ]
  },
  {
   "cell_type": "code",
   "execution_count": 5,
   "metadata": {},
   "outputs": [],
   "source": [
    "callbacks = myCallback()"
   ]
  },
  {
   "cell_type": "code",
   "execution_count": 6,
   "metadata": {},
   "outputs": [],
   "source": [
    "model = Sequential()\n",
    "\n",
    "model.add(Conv2D(28,kernel_size=(3,3),activation='relu',input_shape=(28,28,1)))\n",
    "model.add(MaxPool2D(pool_size=(2,2)))\n",
    "\n",
    "model.add(Conv2D(14, kernel_size = (3,3),activation ='relu'))\n",
    "model.add(MaxPool2D(pool_size=(2,2)))\n",
    "\n",
    "model.add(Flatten())\n",
    "model.add(Dense(64, activation = \"relu\"))\n",
    "#model.add(Dropout(0.2))\n",
    "model.add(Dense(10, activation = \"softmax\"))"
   ]
  },
  {
   "cell_type": "code",
   "execution_count": 7,
   "metadata": {},
   "outputs": [],
   "source": [
    "model.compile(optimizer='adam', loss='categorical_crossentropy', metrics=['accuracy'])"
   ]
  },
  {
   "cell_type": "code",
   "execution_count": 8,
   "metadata": {
    "scrolled": false
   },
   "outputs": [
    {
     "name": "stdout",
     "output_type": "stream",
     "text": [
      "Model: \"sequential\"\n",
      "_________________________________________________________________\n",
      "Layer (type)                 Output Shape              Param #   \n",
      "=================================================================\n",
      "conv2d (Conv2D)              (None, 26, 26, 28)        280       \n",
      "_________________________________________________________________\n",
      "max_pooling2d (MaxPooling2D) (None, 13, 13, 28)        0         \n",
      "_________________________________________________________________\n",
      "conv2d_1 (Conv2D)            (None, 11, 11, 14)        3542      \n",
      "_________________________________________________________________\n",
      "max_pooling2d_1 (MaxPooling2 (None, 5, 5, 14)          0         \n",
      "_________________________________________________________________\n",
      "flatten (Flatten)            (None, 350)               0         \n",
      "_________________________________________________________________\n",
      "dense (Dense)                (None, 64)                22464     \n",
      "_________________________________________________________________\n",
      "dense_1 (Dense)              (None, 10)                650       \n",
      "=================================================================\n",
      "Total params: 26,936\n",
      "Trainable params: 26,936\n",
      "Non-trainable params: 0\n",
      "_________________________________________________________________\n"
     ]
    }
   ],
   "source": [
    "model.summary()"
   ]
  },
  {
   "cell_type": "code",
   "execution_count": 9,
   "metadata": {
    "scrolled": false
   },
   "outputs": [
    {
     "name": "stdout",
     "output_type": "stream",
     "text": [
      "Epoch 1/30\n",
      "1181/1181 [==============================] - 27s 23ms/step - loss: 0.2580 - accuracy: 0.9236 - val_loss: 0.1059 - val_accuracy: 0.9683\n",
      "Epoch 2/30\n",
      "1181/1181 [==============================] - 28s 24ms/step - loss: 0.0819 - accuracy: 0.9746 - val_loss: 0.0720 - val_accuracy: 0.9785\n",
      "Epoch 3/30\n",
      "1181/1181 [==============================] - 47s 40ms/step - loss: 0.0577 - accuracy: 0.9826 - val_loss: 0.0611 - val_accuracy: 0.9778\n",
      "Epoch 4/30\n",
      "1181/1181 [==============================] - 48s 41ms/step - loss: 0.0451 - accuracy: 0.9861 - val_loss: 0.0450 - val_accuracy: 0.9869\n",
      "Epoch 5/30\n",
      "1181/1181 [==============================] - 48s 40ms/step - loss: 0.0369 - accuracy: 0.9891 - val_loss: 0.0550 - val_accuracy: 0.9831\n",
      "Epoch 6/30\n",
      "1181/1181 [==============================] - 48s 41ms/step - loss: 0.0317 - accuracy: 0.9902 - val_loss: 0.0369 - val_accuracy: 0.9888\n",
      "Epoch 7/30\n",
      "1181/1181 [==============================] - 47s 40ms/step - loss: 0.0256 - accuracy: 0.9918 - val_loss: 0.0390 - val_accuracy: 0.9866\n",
      "Epoch 8/30\n",
      "1181/1181 [==============================] - 47s 40ms/step - loss: 0.0206 - accuracy: 0.9931 - val_loss: 0.0347 - val_accuracy: 0.9897\n",
      "Epoch 9/30\n",
      "1181/1181 [==============================] - 48s 40ms/step - loss: 0.0197 - accuracy: 0.9933 - val_loss: 0.0469 - val_accuracy: 0.9866\n",
      "Epoch 10/30\n",
      "1181/1181 [==============================] - 48s 40ms/step - loss: 0.0160 - accuracy: 0.9949 - val_loss: 0.0459 - val_accuracy: 0.9866\n",
      "Epoch 11/30\n",
      "1181/1181 [==============================] - 49s 41ms/step - loss: 0.0133 - accuracy: 0.9954 - val_loss: 0.0623 - val_accuracy: 0.9814\n",
      "Epoch 12/30\n",
      "1181/1181 [==============================] - 49s 41ms/step - loss: 0.0116 - accuracy: 0.9965 - val_loss: 0.0500 - val_accuracy: 0.9857\n",
      "Epoch 13/30\n",
      "1181/1181 [==============================] - 48s 41ms/step - loss: 0.0086 - accuracy: 0.9969 - val_loss: 0.0629 - val_accuracy: 0.9847\n",
      "Epoch 14/30\n",
      "1181/1181 [==============================] - 51s 43ms/step - loss: 0.0097 - accuracy: 0.9966 - val_loss: 0.0633 - val_accuracy: 0.9862\n",
      "Epoch 15/30\n",
      "1181/1181 [==============================] - 49s 42ms/step - loss: 0.0084 - accuracy: 0.9970 - val_loss: 0.0447 - val_accuracy: 0.9893\n",
      "Epoch 16/30\n",
      "1181/1181 [==============================] - 49s 41ms/step - loss: 0.0061 - accuracy: 0.9980 - val_loss: 0.0628 - val_accuracy: 0.9850\n",
      "Epoch 17/30\n",
      "1181/1181 [==============================] - 48s 41ms/step - loss: 0.0065 - accuracy: 0.9978 - val_loss: 0.0487 - val_accuracy: 0.9885\n",
      "Epoch 18/30\n",
      "1181/1181 [==============================] - 47s 40ms/step - loss: 0.0067 - accuracy: 0.9974 - val_loss: 0.0526 - val_accuracy: 0.9878\n",
      "Epoch 19/30\n",
      "1181/1181 [==============================] - 48s 41ms/step - loss: 0.0065 - accuracy: 0.9979 - val_loss: 0.0544 - val_accuracy: 0.9871\n",
      "Epoch 20/30\n",
      "1181/1181 [==============================] - 48s 41ms/step - loss: 0.0033 - accuracy: 0.9989 - val_loss: 0.0612 - val_accuracy: 0.9888\n",
      "Epoch 21/30\n",
      "1181/1181 [==============================] - 51s 43ms/step - loss: 0.0075 - accuracy: 0.9975 - val_loss: 0.0676 - val_accuracy: 0.9874\n",
      "Epoch 22/30\n",
      "1181/1181 [==============================] - 48s 41ms/step - loss: 0.0053 - accuracy: 0.9980 - val_loss: 0.0556 - val_accuracy: 0.9893\n",
      "Epoch 23/30\n",
      "1181/1181 [==============================] - 33s 28ms/step - loss: 0.0052 - accuracy: 0.9980 - val_loss: 0.0650 - val_accuracy: 0.9859\n",
      "Epoch 24/30\n",
      "1181/1181 [==============================] - 38s 32ms/step - loss: 0.0055 - accuracy: 0.9980 - val_loss: 0.0505 - val_accuracy: 0.9890\n",
      "Epoch 25/30\n",
      "1181/1181 [==============================] - 47s 40ms/step - loss: 0.0039 - accuracy: 0.9989 - val_loss: 0.0531 - val_accuracy: 0.9883\n",
      "Epoch 26/30\n",
      "1181/1181 [==============================] - 47s 40ms/step - loss: 0.0033 - accuracy: 0.9989 - val_loss: 0.0709 - val_accuracy: 0.9864\n",
      "Epoch 27/30\n",
      "1181/1181 [==============================] - 47s 39ms/step - loss: 0.0058 - accuracy: 0.9980 - val_loss: 0.0689 - val_accuracy: 0.9883\n",
      "Epoch 28/30\n",
      "1181/1181 [==============================] - 49s 41ms/step - loss: 0.0027 - accuracy: 0.9989 - val_loss: 0.0554 - val_accuracy: 0.9907\n",
      "Epoch 29/30\n",
      "1181/1181 [==============================] - 49s 41ms/step - loss: 0.0037 - accuracy: 0.9987 - val_loss: 0.0602 - val_accuracy: 0.9924\n"
     ]
    },
    {
     "data": {
      "text/plain": [
       "<tensorflow.python.keras.callbacks.History at 0x7f842e492f10>"
      ]
     },
     "execution_count": 9,
     "metadata": {},
     "output_type": "execute_result"
    }
   ],
   "source": [
    "train_steps=train.n//train.batch_size\n",
    "validation_steps=test.n//test.batch_size\n",
    "model.fit(train,steps_per_epoch=train_steps,validation_data=test,validation_steps=validation_steps,epochs=30, callbacks=[callbacks])"
   ]
  },
  {
   "cell_type": "code",
   "execution_count": 10,
   "metadata": {},
   "outputs": [],
   "source": [
    "model.save('new_MNIST_model')"
   ]
  }
 ],
 "metadata": {
  "kernelspec": {
   "display_name": "Python 3",
   "language": "python",
   "name": "python3"
  },
  "language_info": {
   "codemirror_mode": {
    "name": "ipython",
    "version": 3
   },
   "file_extension": ".py",
   "mimetype": "text/x-python",
   "name": "python",
   "nbconvert_exporter": "python",
   "pygments_lexer": "ipython3",
   "version": "3.7.6"
  }
 },
 "nbformat": 4,
 "nbformat_minor": 4
}
